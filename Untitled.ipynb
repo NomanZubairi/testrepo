{
 "cells": [
  {
   "cell_type": "code",
   "execution_count": 3,
   "id": "41a67fe4-bcd0-4173-ba3d-d705b7bbdcc9",
   "metadata": {},
   "outputs": [
    {
     "name": "stdout",
     "output_type": "stream",
     "text": [
      "The total value of the two stocks is 232.79.\n"
     ]
    }
   ],
   "source": [
    "def stocks(stock1, stock2):\n",
    "      sum = stock1 + stock2\n",
    "      return sum\n",
    "\n",
    "sum = stocks(45.23, 187.56)\n",
    "print(f\"The total value of the two stocks is {sum}.\")"
   ]
  }
 ],
 "metadata": {
  "kernelspec": {
   "display_name": "Python 3 (ipykernel)",
   "language": "python",
   "name": "python3"
  },
  "language_info": {
   "codemirror_mode": {
    "name": "ipython",
    "version": 3
   },
   "file_extension": ".py",
   "mimetype": "text/x-python",
   "name": "python",
   "nbconvert_exporter": "python",
   "pygments_lexer": "ipython3",
   "version": "3.7.11"
  }
 },
 "nbformat": 4,
 "nbformat_minor": 5
}
